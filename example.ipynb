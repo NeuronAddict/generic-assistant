{
 "cells": [
  {
   "cell_type": "code",
   "execution_count": null,
   "id": "initial_id",
   "metadata": {
    "collapsed": true
   },
   "outputs": [],
   "source": "# example notebook"
  },
  {
   "metadata": {
    "ExecuteTime": {
     "end_time": "2024-12-10T22:20:06.073326Z",
     "start_time": "2024-12-10T22:20:05.269362Z"
    }
   },
   "cell_type": "code",
   "source": [
    "import os\n",
    "from mistralai import Mistral\n",
    "\n",
    "client = Mistral(api_key=os.environ['MISTRAL_API_KEY'])"
   ],
   "id": "86ff125814ca8c81",
   "outputs": [],
   "execution_count": 2
  },
  {
   "metadata": {
    "ExecuteTime": {
     "end_time": "2024-12-10T22:27:02.692818Z",
     "start_time": "2024-12-10T22:26:59.368760Z"
    }
   },
   "cell_type": "code",
   "source": [
    "instruction = \"\"\"\n",
    "You are a security expert that provide assesments on website.\n",
    "Your job is to analyse some HTTP requests and say all points where a vulnerability can be exploited.\n",
    "You explain all vulnerabilities with informations to reproduce the exploit.\n",
    "You are an expert but you always say when you are not sure.\n",
    "\"\"\"\n",
    "\n",
    "question = \"\"\"\n",
    "Given the following HTTP request and the associed response with <<<>>> separator :\n",
    "1. List each point in the request, where an attack seems possible\n",
    "2. Give a precise answer with :\n",
    "   - The name of the vulnérability that can be exploited\n",
    "   - An exemple of payload that can be used to confirm if the vulnerability can be exploited\n",
    "   - An explanation in 3 sentences of how the vulnerability can be exploited\n",
    "<<<REQUEST>>>\n",
    "POST /WebGoat/PathTraversal/profile-upload HTTP/1.1\n",
    "Host: webgoat-webgoat.apps.internal-ocp.barebone.ldmz\n",
    "Cookie: JSESSIONID=1hoPHA5BetMX161OFN6A9p3QifeTgNSdnKZtvli6; e88a73bc34f81d31794693f9f1b9ea7c=f49c69cdb7e025c27b4fd4d79a431c26\n",
    "Content-Length: 498\n",
    "Sec-Ch-Ua: \"Not?A_Brand\";v=\"8\", \"Chromium\";v=\"108\"\n",
    "Accept: */*\n",
    "Content-Type: multipart/form-data; boundary=----WebKitFormBoundaryaBPL4T88DDBwlxoS\n",
    "X-Requested-With: XMLHttpRequest\n",
    "Sec-Ch-Ua-Mobile: ?0\n",
    "User-Agent: Mozilla/5.0 (Windows NT 10.0; Win64; x64) AppleWebKit/537.36 (KHTML, like Gecko) Chrome/108.0.5359.125 Safari/537.36\n",
    "Sec-Ch-Ua-Platform: \"Linux\"\n",
    "Origin: https://webgoat-webgoat.apps.internal-ocp.barebone.ldmz\n",
    "Sec-Fetch-Site: same-origin\n",
    "Sec-Fetch-Mode: cors\n",
    "Sec-Fetch-Dest: empty\n",
    "Referer: https://webgoat-webgoat.apps.internal-ocp.barebone.ldmz/WebGoat/start.mvc\n",
    "Accept-Encoding: gzip, deflate\n",
    "Accept-Language: fr-FR,fr;q=0.9,en-US;q=0.8,en;q=0.7\n",
    "Connection: close\n",
    "\n",
    "------WebKitFormBoundaryaBPL4T88DDBwlxoS\n",
    "Content-Disposition: form-data; name=\"uploadedFile\"; filename=\"test.txt\"\n",
    "Content-Type: text/plain\n",
    "\n",
    "test\n",
    "\n",
    "------WebKitFormBoundaryaBPL4T88DDBwlxoS\n",
    "Content-Disposition: form-data; name=\"fullName\"\n",
    "\n",
    "test\n",
    "------WebKitFormBoundaryaBPL4T88DDBwlxoS\n",
    "Content-Disposition: form-data; name=\"email\"\n",
    "\n",
    "test@test.com\n",
    "------WebKitFormBoundaryaBPL4T88DDBwlxoS\n",
    "Content-Disposition: form-data; name=\"password\"\n",
    "\n",
    "test\n",
    "------WebKitFormBoundaryaBPL4T88DDBwlxoS--\n",
    "\n",
    "<<<RESPONSE>>>\n",
    "HTTP/1.1 200 OK\n",
    "x-xss-protection: 1; mode=block\n",
    "x-content-type-options: nosniff\n",
    "strict-transport-security: max-age=31536000 ; includeSubDomains\n",
    "x-frame-options: DENY\n",
    "content-type: application/json\n",
    "date: Thu, 05 Jan 2023 13:56:30 GMT\n",
    "connection: close\n",
    "Content-Length: 265\n",
    "\n",
    "{\n",
    "  \"lessonCompleted\" : false,\n",
    "  \"feedback\" : \"Profile has been updated, your image is available at: \\\\/home\\\\/webgoat\\\\/.webgoat-8.2.3-SNAPSHOT\\\\/PathTraversal\\\\/admin00\\\\/test\\\\\\\"\",\n",
    "  \"output\" : null,\n",
    "  \"assignment\" : \"ProfileUpload\",\n",
    "  \"attemptWasMade\" : false\n",
    "}\n",
    "\"\"\"\n",
    "\n",
    "prefix = \"\"\"\n",
    "\"\"\"\n",
    "\n",
    "resp = client.chat.complete(\n",
    "    model=\"mistral-large-latest\",\n",
    "    messages=[\n",
    "        {\"role\": \"system\", \"content\": instruction},\n",
    "        {\"role\": \"user\", \"content\": question},\n",
    "        # {\"role\": \"assistant\", \"content\": prefix, \"prefix\": True},\n",
    "    ],\n",
    "    max_tokens=128,\n",
    ")\n",
    "resp.choices,resp.choices[0].message.content"
   ],
   "id": "839a06c40540d4cf",
   "outputs": [
    {
     "data": {
      "text/plain": [
       "([ChatCompletionChoice(index=0, message=AssistantMessage(content='Based on the provided HTTP request and response, here are the potential vulnerabilities and the details on how they might be exploited:\\n\\n### 1. Path Traversal\\n**Vulnerability Name:** Path Traversal (Directory Traversal)\\n\\n**Payload Example:**\\n```\\nContent-Disposition: form-data; name=\"uploadedFile\"; filename=\"../../../../etc/passwd\"\\nContent-Type: text/plain\\n\\ntest\\n```\\n\\n**Explanation:**\\nPath Traversal occurs when an attacker can manipulate file paths to access unauthorized', tool_calls=None, prefix=False, role='assistant'), finish_reason='length')],\n",
       " 'Based on the provided HTTP request and response, here are the potential vulnerabilities and the details on how they might be exploited:\\n\\n### 1. Path Traversal\\n**Vulnerability Name:** Path Traversal (Directory Traversal)\\n\\n**Payload Example:**\\n```\\nContent-Disposition: form-data; name=\"uploadedFile\"; filename=\"../../../../etc/passwd\"\\nContent-Type: text/plain\\n\\ntest\\n```\\n\\n**Explanation:**\\nPath Traversal occurs when an attacker can manipulate file paths to access unauthorized')"
      ]
     },
     "execution_count": 6,
     "metadata": {},
     "output_type": "execute_result"
    }
   ],
   "execution_count": 6
  }
 ],
 "metadata": {
  "kernelspec": {
   "display_name": "Python 3",
   "language": "python",
   "name": "python3"
  },
  "language_info": {
   "codemirror_mode": {
    "name": "ipython",
    "version": 2
   },
   "file_extension": ".py",
   "mimetype": "text/x-python",
   "name": "python",
   "nbconvert_exporter": "python",
   "pygments_lexer": "ipython2",
   "version": "2.7.6"
  }
 },
 "nbformat": 4,
 "nbformat_minor": 5
}
